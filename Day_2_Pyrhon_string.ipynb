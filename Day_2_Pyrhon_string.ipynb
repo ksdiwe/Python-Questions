{
  "nbformat": 4,
  "nbformat_minor": 0,
  "metadata": {
    "colab": {
      "provenance": []
    },
    "kernelspec": {
      "name": "python3",
      "display_name": "Python 3"
    },
    "language_info": {
      "name": "python"
    }
  },
  "cells": [
    {
      "cell_type": "markdown",
      "source": [
        "## Program to check if a String is Palindrome or Not\n"
      ],
      "metadata": {
        "id": "6skpo_-MHTl7"
      }
    },
    {
      "cell_type": "markdown",
      "source": [
        "A string is said to be a palindrome if the reverse of the string is the same as the string."
      ],
      "metadata": {
        "id": "2n_gQyIuHiAk"
      }
    },
    {
      "cell_type": "code",
      "execution_count": 2,
      "metadata": {
        "colab": {
          "base_uri": "https://localhost:8080/"
        },
        "id": "eX6nsf6LFrOk",
        "outputId": "5539b394-0deb-41b4-e0fe-3d0ff42e46ab"
      },
      "outputs": [
        {
          "output_type": "stream",
          "name": "stdout",
          "text": [
            "String is Palindrome\n"
          ]
        }
      ],
      "source": [
        "# function which return reverse of a string\n",
        "def isPalindrome(string):\n",
        "  return string == string[::-1]\n",
        "\n",
        "string = \"malayalam\"\n",
        "answer = isPalindrome(string)\n",
        "\n",
        "if answer:\n",
        "  print(\"String is Palindrome\")\n",
        "else:\n",
        "  print(\"String is not Palindrome\")\n",
        "\n",
        "  # time complexity O(n)\n"
      ]
    },
    {
      "cell_type": "markdown",
      "source": [
        "## Program to check whether the string is Symmetrical or Palindrome."
      ],
      "metadata": {
        "id": "vZpfxIi1OBAV"
      }
    },
    {
      "cell_type": "markdown",
      "source": [
        "Input: khokho\n",
        "\n",
        "Output:\n",
        "\n",
        "The entered string is symmetrical\n",
        "\n",
        "The entered string is not palindrome\n",
        "\n",
        "\n",
        "\n",
        "Input:amaama\n",
        "\n",
        "Output:\n",
        "\n",
        "The entered string is symmetrical\n",
        "\n",
        "The entered string is palindrome"
      ],
      "metadata": {
        "id": "JzP8ezvCOMuY"
      }
    },
    {
      "cell_type": "code",
      "source": [
        "def palindrome(string):\n",
        "  # find the mid, start and last index of the string\n",
        "\n",
        "  mid = (len(string)//2)\n",
        "  start = 0\n",
        "  last = len(string) - 1\n",
        "  flag = False\n",
        "\n",
        "  #loop till the mid of the string\n",
        "  while(start <= mid):\n",
        "    # compare letters from right\n",
        "    # from the letters of left side\n",
        "    if (string[start] == string[last]):\n",
        "      start += 1\n",
        "      last -= 1\n",
        "    else:\n",
        "      flag = True\n",
        "      break\n",
        "\n",
        "  if flag == False:\n",
        "    print(\"string is palindrome\")\n",
        "  else:\n",
        "    print(\"string is not palindrome\")\n",
        "\n",
        "def symmetry(string):\n",
        "  n = len(string)\n",
        "  flag = False\n",
        "\n",
        "  #check if the length of string is even or odd\n",
        "  if n%2:\n",
        "    mid = n//2 + 1\n",
        "  else:\n",
        "    mid = n//2\n",
        "\n",
        "  start1 = 0\n",
        "  start2 = mid\n",
        "\n",
        "  while(start1 < mid and start1 < n):\n",
        "    if (string[start1] == string[start2]):\n",
        "      start1 = start1 + 1\n",
        "      start2 = start2 + 1\n",
        "    else:\n",
        "      flag = True\n",
        "      break\n",
        "\n",
        "  if flag is False:\n",
        "    print(\"String is Symmetrical\")\n",
        "  else:\n",
        "    print(\"string is not symmetrical\")"
      ],
      "metadata": {
        "id": "SafUDWEEIgzz"
      },
      "execution_count": 6,
      "outputs": []
    },
    {
      "cell_type": "code",
      "source": [
        "string = 'amaama'\n",
        "palindrome(string)\n",
        "symmetry(string)"
      ],
      "metadata": {
        "colab": {
          "base_uri": "https://localhost:8080/"
        },
        "id": "8YXrF0LoRTzq",
        "outputId": "13a1662c-20a9-42ff-a61a-59cc9bfb6383"
      },
      "execution_count": 7,
      "outputs": [
        {
          "output_type": "stream",
          "name": "stdout",
          "text": [
            "string is palindrome\n",
            "String is Symmetrical\n"
          ]
        }
      ]
    },
    {
      "cell_type": "markdown",
      "source": [
        "Time complexity : O(n)\n",
        "\n",
        "Space complexity: O(n)"
      ],
      "metadata": {
        "id": "aC23F2ECRqzj"
      }
    },
    {
      "cell_type": "code",
      "source": [
        "# using regression\n",
        "# time complexity: O(n)\n",
        "# space complexity: O(n)\n",
        "import re\n",
        "\n",
        "input_string = \"amaama\"\n",
        "reversed_string = input_string[::-1]\n",
        "\n",
        "if input_string == reversed_string:\n",
        "  print(\"String is Symmetrical\")\n",
        "else:\n",
        "  print(\"String is not Symmetrical\")\n",
        "\n",
        "if re.match(\"^(\\w+)\\Z\", input_string) and input_string == input_string[::-1]:\n",
        "  print(\"string is pallindrome\")\n",
        "else:\n",
        "  print(\"string is not palindrome\")"
      ],
      "metadata": {
        "colab": {
          "base_uri": "https://localhost:8080/"
        },
        "id": "SWFFz9KBRWsu",
        "outputId": "b611ed59-cfee-4ec4-efe5-74c38b5e82cc"
      },
      "execution_count": 9,
      "outputs": [
        {
          "output_type": "stream",
          "name": "stdout",
          "text": [
            "String is Symmetrical\n",
            "string is pallindrome\n"
          ]
        }
      ]
    },
    {
      "cell_type": "markdown",
      "source": [
        "## Reverse Words in a given string"
      ],
      "metadata": {
        "id": "zKmzCzGvUR0d"
      }
    },
    {
      "cell_type": "code",
      "source": [
        "# Input : str =\" geeks quiz practice code\"\n",
        "# Output : str = code practice quiz geeks\n",
        "# Input : str = \"my name is laxmi\"\n",
        "# output : str= laxmi is name my\n",
        "\n",
        "string = \"machine learning\"\n",
        "\n",
        "reverse_str = string.split()[::-1]\n",
        "reverse_str = \" \".join(reverse_str)\n",
        "reverse_str"
      ],
      "metadata": {
        "colab": {
          "base_uri": "https://localhost:8080/",
          "height": 35
        },
        "id": "2Q8Z_myMT7aI",
        "outputId": "df07c6ce-2f16-4081-f195-9a44898a1adb"
      },
      "execution_count": 15,
      "outputs": [
        {
          "output_type": "execute_result",
          "data": {
            "text/plain": [
              "'learning machine'"
            ],
            "application/vnd.google.colaboratory.intrinsic+json": {
              "type": "string"
            }
          },
          "metadata": {},
          "execution_count": 15
        }
      ]
    },
    {
      "cell_type": "code",
      "source": [
        "# Function to reverse the words in string\n",
        "def reverse_word(s, start, end):\n",
        "  while start < end:\n",
        "      s[start], s[end] = s[end], s[start]\n",
        "      start += 1\n",
        "      end -= 1\n",
        "\n",
        "# Function to reverse the string\n",
        "def reverse_string(s):\n",
        "  s = list(s)\n",
        "  print(s)\n",
        "  start, end = 0, len(s) - 1\n",
        "  reverse_word(s, start, end)\n",
        "\n",
        "  start = end = 0\n",
        "\n",
        "  # Iterate over the string S\n",
        "  while end < len(s):\n",
        "      if s[end] == ' ':\n",
        "          reverse_word(s, start, end - 1)\n",
        "          start = end + 1\n",
        "      end += 1\n",
        "\n",
        "  # Reverse the words\n",
        "  reverse_word(s, start, end - 1)\n",
        "  return ''.join(s)"
      ],
      "metadata": {
        "id": "Dv2N6iLGVs5y"
      },
      "execution_count": 24,
      "outputs": []
    },
    {
      "cell_type": "code",
      "source": [
        "string = \"machine learning\"\n",
        "print(reverse_string(string))"
      ],
      "metadata": {
        "colab": {
          "base_uri": "https://localhost:8080/"
        },
        "id": "vk7aB8DOYObD",
        "outputId": "ebaabfaf-d013-47ac-81ee-f45fe0864436"
      },
      "execution_count": 25,
      "outputs": [
        {
          "output_type": "stream",
          "name": "stdout",
          "text": [
            "['m', 'a', 'c', 'h', 'i', 'n', 'e', ' ', 'l', 'e', 'a', 'r', 'n', 'i', 'n', 'g']\n",
            "learning machine\n"
          ]
        }
      ]
    }
  ]
}