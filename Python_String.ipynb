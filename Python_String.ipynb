{
  "nbformat": 4,
  "nbformat_minor": 0,
  "metadata": {
    "colab": {
      "provenance": []
    },
    "kernelspec": {
      "name": "python3",
      "display_name": "Python 3"
    },
    "language_info": {
      "name": "python"
    }
  },
  "cells": [
    {
      "cell_type": "markdown",
      "source": [
        "# Python String\n",
        "\n",
        "String: data structure in Python that represents a sequence of characters.\n",
        "\n",
        "Important:\n",
        "\n",
        "**Immutable data type, meaning that once you have created a string, you cannot change it.**"
      ],
      "metadata": {
        "id": "-j7d1cW8A_DF"
      }
    },
    {
      "cell_type": "code",
      "execution_count": 1,
      "metadata": {
        "colab": {
          "base_uri": "https://localhost:8080/"
        },
        "id": "Jo_IM8j5AMeJ",
        "outputId": "c05ff03b-9606-4dce-e116-6ab8cb23bc39"
      },
      "outputs": [
        {
          "output_type": "stream",
          "name": "stdout",
          "text": [
            "we are preparing for MLE Interviews\n"
          ]
        }
      ],
      "source": [
        "print(\"we are preparing for MLE Interviews\")"
      ]
    },
    {
      "cell_type": "markdown",
      "source": [
        "## String Slicing\n",
        "range of characters in the string\n",
        "\n",
        "To extract substring from the whole string then we use the syntax like\n",
        "\n",
        "> string_name[beginning: end : step]\n",
        "\n",
        "* beginning represents the starting index of string\n",
        "* end denotes the end index of string which is not inclusive\n",
        "* steps denotes the distance between the two words."
      ],
      "metadata": {
        "id": "VsFdgMZZB3yR"
      }
    },
    {
      "cell_type": "code",
      "source": [
        "string = \"learning slicing\""
      ],
      "metadata": {
        "id": "YHOUuF8XBv6P"
      },
      "execution_count": 2,
      "outputs": []
    },
    {
      "cell_type": "code",
      "source": [
        "#printing from 5th character\n",
        "string[5:]"
      ],
      "metadata": {
        "colab": {
          "base_uri": "https://localhost:8080/",
          "height": 35
        },
        "id": "H5WZM4KXCNjt",
        "outputId": "e5308596-b8ed-44d3-cbde-db0da2ebf156"
      },
      "execution_count": 3,
      "outputs": [
        {
          "output_type": "execute_result",
          "data": {
            "text/plain": [
              "'ing slicing'"
            ],
            "application/vnd.google.colaboratory.intrinsic+json": {
              "type": "string"
            }
          },
          "metadata": {},
          "execution_count": 3
        }
      ]
    },
    {
      "cell_type": "markdown",
      "source": [
        "## Reversing a python string"
      ],
      "metadata": {
        "id": "e-0aXqWJCYNl"
      }
    },
    {
      "cell_type": "code",
      "source": [
        "#reverse a string\n",
        "gfg = \"geeksforgeeks\"\n",
        "print(gfg[::-1])"
      ],
      "metadata": {
        "colab": {
          "base_uri": "https://localhost:8080/"
        },
        "id": "-LwYHlEFCVZn",
        "outputId": "7459da7e-8dfa-43c6-d715-f59ec2e070fa"
      },
      "execution_count": 4,
      "outputs": [
        {
          "output_type": "stream",
          "name": "stdout",
          "text": [
            "skeegrofskeeg\n"
          ]
        }
      ]
    },
    {
      "cell_type": "code",
      "source": [
        "gfg = \"geeksforgeeks\"\n",
        "\n",
        "# Reverse the string using reversed and join function\n",
        "gfg = \"\".join(reversed(gfg))\n",
        "\n",
        "print(gfg)"
      ],
      "metadata": {
        "colab": {
          "base_uri": "https://localhost:8080/"
        },
        "id": "-2zlg5-CCpnV",
        "outputId": "829e2f97-8018-4754-adaa-ee31c4c05e48"
      },
      "execution_count": 5,
      "outputs": [
        {
          "output_type": "stream",
          "name": "stdout",
          "text": [
            "skeegrofskeeg\n"
          ]
        }
      ]
    },
    {
      "cell_type": "markdown",
      "source": [
        "## Deleting/Updating from String\n",
        "\n",
        "* deletion of characters from a string is not allowed\n",
        "* A character of a string can be updated by first converting the string into a Python List and then updating the element in the list.\n",
        "As lists are mutable in nature, we can update the character and then convert the list back into the String.\n",
        "\n",
        "Another method is using the string slicing method. Slice the string before the character you want to update, then add the new character and finally add the other part of the string again by string slicing.\n",
        "\n",
        "## Deleting a character\n",
        "Python strings are immutable, that means we cannot delete a character from it. When we try to delete thecharacter using the del keyword, it will generate an error.\n",
        "\n",
        "But using slicing we can remove the character from the original string and store the result in a new string.\n",
        "\n",
        "## Deleting Entire String\n",
        "Deletion of the entire string is possible with the use of del keyword. Further, if we try to print the string, this will produce an error because the String is deleted and is unavailable to be printed.  "
      ],
      "metadata": {
        "id": "EPIYwQNIDB-G"
      }
    },
    {
      "cell_type": "markdown",
      "source": [
        "## String methods"
      ],
      "metadata": {
        "id": "eSCRI3jtHkHf"
      }
    },
    {
      "cell_type": "markdown",
      "source": [
        "1. find(“string”, beg, end) :-\n",
        "\n",
        "This function is used to find the position of the substring within a string.It takes 3 arguments, substring , starting index( by default 0) and ending index( by default string length).\n",
        "\n",
        "\n",
        "* It returns “-1 ” if string is not found in given range.\n",
        "* It returns first occurrence of string if found.\n",
        "\n",
        "2. rfind(“string”, beg, end) :- This function has the similar working as find(), but it returns the position of the last occurrence of string."
      ],
      "metadata": {
        "id": "CgaI7XXDHoLI"
      }
    },
    {
      "cell_type": "markdown",
      "source": [
        "# Questions"
      ],
      "metadata": {
        "id": "r6LkkPnrE4wl"
      }
    },
    {
      "cell_type": "markdown",
      "source": [
        "## title() method\n",
        "\n",
        "title() method returns a new string after converting the first letter of every word to uppercase(capital) and keeping the rest of the letters lowercase."
      ],
      "metadata": {
        "id": "kpRUcNhFMBfy"
      }
    },
    {
      "cell_type": "code",
      "source": [
        "string = \"i am machine learning engineer\"\n",
        "string.title()"
      ],
      "metadata": {
        "colab": {
          "base_uri": "https://localhost:8080/",
          "height": 35
        },
        "id": "TxLI_xYGC0Bi",
        "outputId": "d7d69375-bd69-4a7b-a864-aeb5d4483286"
      },
      "execution_count": 9,
      "outputs": [
        {
          "output_type": "execute_result",
          "data": {
            "text/plain": [
              "'I Am Machine Learning Engineer'"
            ],
            "application/vnd.google.colaboratory.intrinsic+json": {
              "type": "string"
            }
          },
          "metadata": {},
          "execution_count": 9
        }
      ]
    },
    {
      "cell_type": "code",
      "source": [
        "string.capitalize()"
      ],
      "metadata": {
        "colab": {
          "base_uri": "https://localhost:8080/",
          "height": 35
        },
        "id": "5905X4GmMQka",
        "outputId": "9c9da061-dc45-4956-c7c1-331d6d8b2ffe"
      },
      "execution_count": 10,
      "outputs": [
        {
          "output_type": "execute_result",
          "data": {
            "text/plain": [
              "'I am machine learning engineer'"
            ],
            "application/vnd.google.colaboratory.intrinsic+json": {
              "type": "string"
            }
          },
          "metadata": {},
          "execution_count": 10
        }
      ]
    },
    {
      "cell_type": "markdown",
      "source": [
        "## Swap commas and dots in a string"
      ],
      "metadata": {
        "id": "3ZD3gsiDNB3m"
      }
    },
    {
      "cell_type": "code",
      "source": [
        "def Replace(str1):\n",
        "\tstr1 = str1.replace(', ', 'third')\n",
        "\tstr1 = str1.replace('.', ', ')\n",
        "\tstr1 = str1.replace('third', '.')\n",
        "\treturn str1\n",
        "\n",
        "string = \"14, 625, 498.002\"\n",
        "print(Replace(string))\n"
      ],
      "metadata": {
        "colab": {
          "base_uri": "https://localhost:8080/"
        },
        "id": "KQr2cwc3M6B_",
        "outputId": "4e1eb36c-9887-48b7-8875-27bbbea8a028"
      },
      "execution_count": 11,
      "outputs": [
        {
          "output_type": "stream",
          "name": "stdout",
          "text": [
            "14.625.498, 002\n"
          ]
        }
      ]
    },
    {
      "cell_type": "markdown",
      "source": [
        "## convert string to a list"
      ],
      "metadata": {
        "id": "uQdJ0aAPPvKz"
      }
    },
    {
      "cell_type": "markdown",
      "source": [
        "* Using list()\n",
        "* Using list comprehension\n",
        "* Using split() method\n",
        "* Using string slicing\n",
        "* Using re.findall() method\n",
        "* Using enumerate function\n",
        "* Using JSON\n",
        "* Using ast.literal"
      ],
      "metadata": {
        "id": "KcHW5U12S6XN"
      }
    },
    {
      "cell_type": "code",
      "source": [
        "# using list()\n",
        "st = \"machine learning\"\n",
        "lis = list(st)\n",
        "\n",
        "print(lis)"
      ],
      "metadata": {
        "colab": {
          "base_uri": "https://localhost:8080/"
        },
        "id": "EITAB2w8PytC",
        "outputId": "29f910d6-cffc-45ac-eb36-dd8cdf3f86ea"
      },
      "execution_count": 13,
      "outputs": [
        {
          "output_type": "stream",
          "name": "stdout",
          "text": [
            "['m', 'a', 'c', 'h', 'i', 'n', 'e', ' ', 'l', 'e', 'a', 'r', 'n', 'i', 'n', 'g']\n"
          ]
        }
      ]
    },
    {
      "cell_type": "code",
      "source": [
        "# using list comprehension\n",
        "st = \"machine learning\"\n",
        "li = [i for i in st]\n",
        "\n",
        "print(li)"
      ],
      "metadata": {
        "colab": {
          "base_uri": "https://localhost:8080/"
        },
        "id": "DmZGJITMTK2a",
        "outputId": "4651a2c4-16bb-44d3-c367-26f35e52376a"
      },
      "execution_count": 14,
      "outputs": [
        {
          "output_type": "stream",
          "name": "stdout",
          "text": [
            "['m', 'a', 'c', 'h', 'i', 'n', 'e', ' ', 'l', 'e', 'a', 'r', 'n', 'i', 'n', 'g']\n"
          ]
        }
      ]
    },
    {
      "cell_type": "code",
      "source": [
        "# using split\n",
        "st = \"machine learning\"\n",
        "li = list(st.split(\" \"))\n",
        "\n",
        "print(li)"
      ],
      "metadata": {
        "colab": {
          "base_uri": "https://localhost:8080/"
        },
        "id": "BTLreWlTTf-W",
        "outputId": "651ee844-62c0-4f93-f1a2-3eeb018d135f"
      },
      "execution_count": 15,
      "outputs": [
        {
          "output_type": "stream",
          "name": "stdout",
          "text": [
            "['machine', 'learning']\n"
          ]
        }
      ]
    },
    {
      "cell_type": "code",
      "source": [
        "# using string slicing\n",
        "\n",
        "def convert(string):\n",
        "  lis = []\n",
        "  lis[:0] = string\n",
        "  return lis\n",
        "\n",
        "st = \"machine learning\"\n",
        "print(convert(st))\n"
      ],
      "metadata": {
        "colab": {
          "base_uri": "https://localhost:8080/"
        },
        "id": "P3Q-WCYOTzAt",
        "outputId": "2c228492-c498-4a4a-c6e0-3a06e6f3a3b3"
      },
      "execution_count": 16,
      "outputs": [
        {
          "output_type": "stream",
          "name": "stdout",
          "text": [
            "['m', 'a', 'c', 'h', 'i', 'n', 'e', ' ', 'l', 'e', 'a', 'r', 'n', 'i', 'n', 'g']\n"
          ]
        }
      ]
    },
    {
      "cell_type": "code",
      "source": [
        "# using re.findall() method\n",
        "import re\n",
        "st = \"machine learning\"\n",
        "lis = re.findall('[a-zA-Z]', st)\n",
        "\n",
        "print(lis)"
      ],
      "metadata": {
        "colab": {
          "base_uri": "https://localhost:8080/"
        },
        "id": "TLcPrStfUTaX",
        "outputId": "7b55cc9a-92f6-42c3-a6f7-703422629a64"
      },
      "execution_count": 17,
      "outputs": [
        {
          "output_type": "stream",
          "name": "stdout",
          "text": [
            "['m', 'a', 'c', 'h', 'i', 'n', 'e', 'l', 'e', 'a', 'r', 'n', 'i', 'n', 'g']\n"
          ]
        }
      ]
    },
    {
      "cell_type": "code",
      "source": [
        "# using enumerate function\n",
        "st = \"machine learning\"\n",
        "lis = [i for a,i in enumerate(st)]\n",
        "\n",
        "print(lis)"
      ],
      "metadata": {
        "colab": {
          "base_uri": "https://localhost:8080/"
        },
        "id": "vID1fFChUu3M",
        "outputId": "24536f27-6ef2-4473-9c49-66313d5566dd"
      },
      "execution_count": 18,
      "outputs": [
        {
          "output_type": "stream",
          "name": "stdout",
          "text": [
            "['m', 'a', 'c', 'h', 'i', 'n', 'e', ' ', 'l', 'e', 'a', 'r', 'n', 'i', 'n', 'g']\n"
          ]
        }
      ]
    },
    {
      "cell_type": "code",
      "source": [
        "import json\n",
        "\n",
        "stringA = '[\"geeks\", 2,\"for\", 4, \"geeks\",3]'\n",
        "\n",
        "# Type check\n",
        "\n",
        "res = json.loads(stringA)\n",
        "# Result\n",
        "print(\"The converted list : \\n\",res)"
      ],
      "metadata": {
        "colab": {
          "base_uri": "https://localhost:8080/"
        },
        "id": "wd5LXgJ7VAxl",
        "outputId": "46ef9650-d94b-4b58-92a2-e969e208943a"
      },
      "execution_count": 20,
      "outputs": [
        {
          "output_type": "stream",
          "name": "stdout",
          "text": [
            "The converted list : \n",
            " ['geeks', 2, 'for', 4, 'geeks', 3]\n"
          ]
        }
      ]
    },
    {
      "cell_type": "code",
      "source": [
        "import ast\n",
        "\n",
        "# initializing string representation of a list\n",
        "ini_list = '[\"geeks\", 2,\"for\", 4, \"geeks\",3]'\n",
        "\n",
        "\n",
        "# Converting string to list\n",
        "res = ast.literal_eval(ini_list)\n",
        "\n",
        "# printing final result and its type\n",
        "print(res)\n",
        "print(type(res))\n"
      ],
      "metadata": {
        "colab": {
          "base_uri": "https://localhost:8080/"
        },
        "id": "8HkgcVwvVVm1",
        "outputId": "0aacfd5c-8621-4566-e415-bbf654b8984f"
      },
      "execution_count": 21,
      "outputs": [
        {
          "output_type": "stream",
          "name": "stdout",
          "text": [
            "['geeks', 2, 'for', 4, 'geeks', 3]\n",
            "<class 'list'>\n"
          ]
        }
      ]
    },
    {
      "cell_type": "markdown",
      "source": [
        "## Count and display vowels in a string"
      ],
      "metadata": {
        "id": "RnQDfwsFWGRp"
      }
    },
    {
      "cell_type": "markdown",
      "source": [
        "vowels : a, e, i, o, u"
      ],
      "metadata": {
        "id": "CzJr5SjmZf2A"
      }
    },
    {
      "cell_type": "code",
      "source": [
        "def count_vowels(string):\n",
        "  #define vowels\n",
        "  vowels = 'aAeEiIoOuU'\n",
        "  #using dictionary comprehension to count each vowel\n",
        "  count = {v: string.count(v) for v in vowels if v in string}\n",
        "  return count\n",
        "\n",
        "string = \"Hello, I'm learning machine learning\"\n",
        "vowel_count = count_vowels(string)\n",
        "vowel_count"
      ],
      "metadata": {
        "colab": {
          "base_uri": "https://localhost:8080/"
        },
        "id": "8NgmvaLLVkcX",
        "outputId": "20dca558-248b-4446-ed6b-70eb2315f2d1"
      },
      "execution_count": 22,
      "outputs": [
        {
          "output_type": "execute_result",
          "data": {
            "text/plain": [
              "{'a': 3, 'e': 4, 'i': 3, 'I': 1, 'o': 1}"
            ]
          },
          "metadata": {},
          "execution_count": 22
        }
      ]
    },
    {
      "cell_type": "markdown",
      "source": [
        "The `in` operation for each vowel is O(n), where\n",
        "n is the length of the string, because in the worst case, it might need to check each character in the string.\n",
        "\n",
        "time complexity: O(n)"
      ],
      "metadata": {
        "id": "BER7kPVfbZSB"
      }
    },
    {
      "cell_type": "code",
      "source": [],
      "metadata": {
        "id": "BnGxJzCHbK-S"
      },
      "execution_count": null,
      "outputs": []
    }
  ]
}